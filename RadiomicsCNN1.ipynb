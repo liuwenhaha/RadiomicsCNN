{
 "cells": [
  {
   "cell_type": "code",
   "execution_count": 1,
   "metadata": {},
   "outputs": [
    {
     "name": "stderr",
     "output_type": "stream",
     "text": [
      "Using TensorFlow backend.\n"
     ]
    }
   ],
   "source": [
    "import gc\n",
    "import os\n",
    "import numpy as np\n",
    "import pandas as pd\n",
    "import matplotlib.pyplot as plt\n",
    "from tqdm import tnrange, tqdm_notebook\n",
    "from time import time\n",
    "import random\n",
    "\n",
    "from sklearn.model_selection import train_test_split\n",
    "from sklearn.decomposition import PCA\n",
    "from sklearn.metrics import accuracy_score\n",
    "\n",
    "from CNN_New import get_model\n",
    "\n",
    "import keras\n",
    "from keras import backend as K\n",
    "from keras.utils import multi_gpu_model\n",
    "from keras.optimizers import SGD, Adam\n",
    "from keras.utils.np_utils import to_categorical\n",
    "\n",
    "import tensorflow as tf\n",
    "from tensorflow.python.client import device_lib"
   ]
  },
  {
   "cell_type": "code",
   "execution_count": 2,
   "metadata": {},
   "outputs": [
    {
     "name": "stdout",
     "output_type": "stream",
     "text": [
      "[name: \"/device:CPU:0\"\n",
      "device_type: \"CPU\"\n",
      "memory_limit: 268435456\n",
      "locality {\n",
      "}\n",
      "incarnation: 3674329292543417123\n",
      ", name: \"/device:GPU:0\"\n",
      "device_type: \"GPU\"\n",
      "memory_limit: 9061465457\n",
      "locality {\n",
      "  bus_id: 1\n",
      "  links {\n",
      "    link {\n",
      "      device_id: 1\n",
      "      type: \"StreamExecutor\"\n",
      "      strength: 1\n",
      "    }\n",
      "  }\n",
      "}\n",
      "incarnation: 10776930260252075812\n",
      "physical_device_desc: \"device: 0, name: GeForce RTX 2080 Ti, pci bus id: 0000:0a:00.0, compute capability: 7.5\"\n",
      ", name: \"/device:GPU:1\"\n",
      "device_type: \"GPU\"\n",
      "memory_limit: 9061465457\n",
      "locality {\n",
      "  bus_id: 1\n",
      "  links {\n",
      "    link {\n",
      "      type: \"StreamExecutor\"\n",
      "      strength: 1\n",
      "    }\n",
      "  }\n",
      "}\n",
      "incarnation: 127884176242487866\n",
      "physical_device_desc: \"device: 1, name: GeForce RTX 2080 Ti, pci bus id: 0000:41:00.0, compute capability: 7.5\"\n",
      "]\n"
     ]
    }
   ],
   "source": [
    "print(device_lib.list_local_devices())"
   ]
  },
  {
   "cell_type": "code",
   "execution_count": 3,
   "metadata": {},
   "outputs": [
    {
     "data": {
      "text/plain": [
       "'C:\\\\Users\\\\rogerswilliam\\\\projects\\\\RadiomicsCNN'"
      ]
     },
     "execution_count": 3,
     "metadata": {},
     "output_type": "execute_result"
    }
   ],
   "source": [
    "src_path = os.getcwd()\n",
    "src_path"
   ]
  },
  {
   "cell_type": "code",
   "execution_count": 4,
   "metadata": {},
   "outputs": [
    {
     "data": {
      "text/plain": [
       "['/job:localhost/replica:0/task:0/device:GPU:0',\n",
       " '/job:localhost/replica:0/task:0/device:GPU:1']"
      ]
     },
     "execution_count": 4,
     "metadata": {},
     "output_type": "execute_result"
    }
   ],
   "source": [
    "K.tensorflow_backend._get_available_gpus()"
   ]
  },
  {
   "cell_type": "code",
   "execution_count": 5,
   "metadata": {},
   "outputs": [
    {
     "data": {
      "text/plain": [
       "['cropped',\n",
       " 'ids.csv',\n",
       " 'images_small.npy',\n",
       " 'imgs.npy',\n",
       " 'labels.csv',\n",
       " 'Lung1.clinical.csv',\n",
       " 'msks.npy',\n",
       " 'radiomics_features.csv']"
      ]
     },
     "execution_count": 5,
     "metadata": {},
     "output_type": "execute_result"
    }
   ],
   "source": [
    "dta_path = os.path.join(src_path, 'data')\n",
    "os.listdir(dta_path)"
   ]
  },
  {
   "cell_type": "code",
   "execution_count": 6,
   "metadata": {},
   "outputs": [],
   "source": [
    "cpd_path = os.path.join(dta_path, 'cropped')\n",
    "nodule_id = os.listdir(cpd_path)"
   ]
  },
  {
   "cell_type": "code",
   "execution_count": 7,
   "metadata": {},
   "outputs": [
    {
     "name": "stdout",
     "output_type": "stream",
     "text": [
      "Total labels: 422\n"
     ]
    },
    {
     "data": {
      "text/html": [
       "<div>\n",
       "<style scoped>\n",
       "    .dataframe tbody tr th:only-of-type {\n",
       "        vertical-align: middle;\n",
       "    }\n",
       "\n",
       "    .dataframe tbody tr th {\n",
       "        vertical-align: top;\n",
       "    }\n",
       "\n",
       "    .dataframe thead th {\n",
       "        text-align: right;\n",
       "    }\n",
       "</style>\n",
       "<table border=\"1\" class=\"dataframe\">\n",
       "  <thead>\n",
       "    <tr style=\"text-align: right;\">\n",
       "      <th></th>\n",
       "      <th>ids</th>\n",
       "      <th>survival</th>\n",
       "    </tr>\n",
       "  </thead>\n",
       "  <tbody>\n",
       "    <tr>\n",
       "      <th>0</th>\n",
       "      <td>LUNG1-001</td>\n",
       "      <td>2165</td>\n",
       "    </tr>\n",
       "    <tr>\n",
       "      <th>1</th>\n",
       "      <td>LUNG1-002</td>\n",
       "      <td>155</td>\n",
       "    </tr>\n",
       "    <tr>\n",
       "      <th>2</th>\n",
       "      <td>LUNG1-003</td>\n",
       "      <td>256</td>\n",
       "    </tr>\n",
       "    <tr>\n",
       "      <th>3</th>\n",
       "      <td>LUNG1-004</td>\n",
       "      <td>141</td>\n",
       "    </tr>\n",
       "    <tr>\n",
       "      <th>4</th>\n",
       "      <td>LUNG1-005</td>\n",
       "      <td>353</td>\n",
       "    </tr>\n",
       "  </tbody>\n",
       "</table>\n",
       "</div>"
      ],
      "text/plain": [
       "         ids  survival\n",
       "0  LUNG1-001      2165\n",
       "1  LUNG1-002       155\n",
       "2  LUNG1-003       256\n",
       "3  LUNG1-004       141\n",
       "4  LUNG1-005       353"
      ]
     },
     "execution_count": 7,
     "metadata": {},
     "output_type": "execute_result"
    }
   ],
   "source": [
    "labels = pd.read_csv(os.path.join(dta_path, 'labels.csv'))\n",
    "print(\"Total labels:\", len(labels))\n",
    "labels.head()\n",
    "#labels = labels['survival']\n",
    "#print(labels[:5])"
   ]
  },
  {
   "cell_type": "code",
   "execution_count": 8,
   "metadata": {},
   "outputs": [
    {
     "data": {
      "text/html": [
       "<div>\n",
       "<style scoped>\n",
       "    .dataframe tbody tr th:only-of-type {\n",
       "        vertical-align: middle;\n",
       "    }\n",
       "\n",
       "    .dataframe tbody tr th {\n",
       "        vertical-align: top;\n",
       "    }\n",
       "\n",
       "    .dataframe thead th {\n",
       "        text-align: right;\n",
       "    }\n",
       "</style>\n",
       "<table border=\"1\" class=\"dataframe\">\n",
       "  <thead>\n",
       "    <tr style=\"text-align: right;\">\n",
       "      <th></th>\n",
       "      <th>PatientID</th>\n",
       "      <th>age</th>\n",
       "      <th>clinical.T.Stage</th>\n",
       "      <th>Clinical.N.Stage</th>\n",
       "      <th>Clinical.M.Stage</th>\n",
       "      <th>Overall.Stage</th>\n",
       "      <th>Histology</th>\n",
       "      <th>gender</th>\n",
       "      <th>Survival.time</th>\n",
       "      <th>deadstatus.event</th>\n",
       "    </tr>\n",
       "  </thead>\n",
       "  <tbody>\n",
       "    <tr>\n",
       "      <th>0</th>\n",
       "      <td>LUNG1-001</td>\n",
       "      <td>78.7515</td>\n",
       "      <td>2.0</td>\n",
       "      <td>3</td>\n",
       "      <td>0</td>\n",
       "      <td>IIIb</td>\n",
       "      <td>large cell</td>\n",
       "      <td>male</td>\n",
       "      <td>2165</td>\n",
       "      <td>1</td>\n",
       "    </tr>\n",
       "    <tr>\n",
       "      <th>1</th>\n",
       "      <td>LUNG1-002</td>\n",
       "      <td>83.8001</td>\n",
       "      <td>2.0</td>\n",
       "      <td>0</td>\n",
       "      <td>0</td>\n",
       "      <td>I</td>\n",
       "      <td>squamous cell carcinoma</td>\n",
       "      <td>male</td>\n",
       "      <td>155</td>\n",
       "      <td>1</td>\n",
       "    </tr>\n",
       "    <tr>\n",
       "      <th>2</th>\n",
       "      <td>LUNG1-003</td>\n",
       "      <td>68.1807</td>\n",
       "      <td>2.0</td>\n",
       "      <td>3</td>\n",
       "      <td>0</td>\n",
       "      <td>IIIb</td>\n",
       "      <td>large cell</td>\n",
       "      <td>male</td>\n",
       "      <td>256</td>\n",
       "      <td>1</td>\n",
       "    </tr>\n",
       "    <tr>\n",
       "      <th>3</th>\n",
       "      <td>LUNG1-004</td>\n",
       "      <td>70.8802</td>\n",
       "      <td>2.0</td>\n",
       "      <td>1</td>\n",
       "      <td>0</td>\n",
       "      <td>II</td>\n",
       "      <td>squamous cell carcinoma</td>\n",
       "      <td>male</td>\n",
       "      <td>141</td>\n",
       "      <td>1</td>\n",
       "    </tr>\n",
       "    <tr>\n",
       "      <th>4</th>\n",
       "      <td>LUNG1-005</td>\n",
       "      <td>80.4819</td>\n",
       "      <td>4.0</td>\n",
       "      <td>2</td>\n",
       "      <td>0</td>\n",
       "      <td>IIIb</td>\n",
       "      <td>squamous cell carcinoma</td>\n",
       "      <td>male</td>\n",
       "      <td>353</td>\n",
       "      <td>1</td>\n",
       "    </tr>\n",
       "  </tbody>\n",
       "</table>\n",
       "</div>"
      ],
      "text/plain": [
       "   PatientID      age  clinical.T.Stage  Clinical.N.Stage  Clinical.M.Stage  \\\n",
       "0  LUNG1-001  78.7515               2.0                 3                 0   \n",
       "1  LUNG1-002  83.8001               2.0                 0                 0   \n",
       "2  LUNG1-003  68.1807               2.0                 3                 0   \n",
       "3  LUNG1-004  70.8802               2.0                 1                 0   \n",
       "4  LUNG1-005  80.4819               4.0                 2                 0   \n",
       "\n",
       "  Overall.Stage                Histology gender  Survival.time  \\\n",
       "0          IIIb               large cell   male           2165   \n",
       "1             I  squamous cell carcinoma   male            155   \n",
       "2          IIIb               large cell   male            256   \n",
       "3            II  squamous cell carcinoma   male            141   \n",
       "4          IIIb  squamous cell carcinoma   male            353   \n",
       "\n",
       "   deadstatus.event  \n",
       "0                 1  \n",
       "1                 1  \n",
       "2                 1  \n",
       "3                 1  \n",
       "4                 1  "
      ]
     },
     "execution_count": 8,
     "metadata": {},
     "output_type": "execute_result"
    }
   ],
   "source": [
    "df = pd.read_csv(os.path.join(dta_path, 'Lung1.clinical.csv'))\n",
    "df.head()"
   ]
  },
  {
   "cell_type": "code",
   "execution_count": 9,
   "metadata": {},
   "outputs": [
    {
     "data": {
      "text/plain": [
       "1    244\n",
       "0    178\n",
       "Name: deadstatus.event, dtype: int64"
      ]
     },
     "execution_count": 9,
     "metadata": {},
     "output_type": "execute_result"
    }
   ],
   "source": [
    "df['deadstatus.event'].value_counts()"
   ]
  },
  {
   "cell_type": "code",
   "execution_count": 10,
   "metadata": {},
   "outputs": [
    {
     "name": "stdout",
     "output_type": "stream",
     "text": [
      "172 77 173 = 422\n"
     ]
    }
   ],
   "source": [
    "divide = 491\n",
    "bad  = len(df[(df['Survival.time'] < divide) & (df['deadstatus.event'] == 1)])\n",
    "ignr = len(df[(df['Survival.time'] < divide) & (df['deadstatus.event'] == 0)])\n",
    "good = len(df[df['Survival.time'] >= divide])\n",
    "print(bad, ignr, good,  '=', bad+good+ignr)"
   ]
  },
  {
   "cell_type": "code",
   "execution_count": 11,
   "metadata": {},
   "outputs": [],
   "source": [
    "conditions = [\n",
    "    (df['Survival.time'] < divide) & (df['deadstatus.event'] == 1),\n",
    "    (df['Survival.time'] < divide) & (df['deadstatus.event'] == 0),\n",
    "    (df['Survival.time'] >= divide)\n",
    "]\n",
    "\n",
    "choices = [0, 2, 1]\n",
    "\n",
    "df['goodstatus'] = np.select(conditions, choices, default=3)"
   ]
  },
  {
   "cell_type": "code",
   "execution_count": 12,
   "metadata": {},
   "outputs": [
    {
     "data": {
      "text/plain": [
       "1    173\n",
       "0    172\n",
       "2     77\n",
       "Name: goodstatus, dtype: int64"
      ]
     },
     "execution_count": 12,
     "metadata": {},
     "output_type": "execute_result"
    }
   ],
   "source": [
    "df['goodstatus'].value_counts()"
   ]
  },
  {
   "cell_type": "code",
   "execution_count": 13,
   "metadata": {},
   "outputs": [],
   "source": [
    "new_labels = []\n",
    "for n, id in enumerate(nodule_id):\n",
    "    survival = int(df.loc[df.PatientID == id[:9], 'goodstatus'].values[0])\n",
    "    row = [id, survival]\n",
    "    new_labels.append(row)"
   ]
  },
  {
   "cell_type": "code",
   "execution_count": 14,
   "metadata": {},
   "outputs": [
    {
     "data": {
      "text/plain": [
       "[['LUNG1-001', 1],\n",
       " ['LUNG1-002', 0],\n",
       " ['LUNG1-003', 0],\n",
       " ['LUNG1-004', 0],\n",
       " ['LUNG1-005', 0],\n",
       " ['LUNG1-006', 0],\n",
       " ['LUNG1-007', 0],\n",
       " ['LUNG1-008', 0],\n",
       " ['LUNG1-009', 0],\n",
       " ['LUNG1-010', 1],\n",
       " ['LUNG1-011', 1],\n",
       " ['LUNG1-012', 0],\n",
       " ['LUNG1-013', 1],\n",
       " ['LUNG1-014', 1],\n",
       " ['LUNG1-015', 1],\n",
       " ['LUNG1-016', 0],\n",
       " ['LUNG1-017', 0],\n",
       " ['LUNG1-018', 1],\n",
       " ['LUNG1-019', 0],\n",
       " ['LUNG1-020', 0],\n",
       " ['LUNG1-021', 0],\n",
       " ['LUNG1-022', 0],\n",
       " ['LUNG1-023', 0],\n",
       " ['LUNG1-024', 1],\n",
       " ['LUNG1-025', 1],\n",
       " ['LUNG1-026', 0],\n",
       " ['LUNG1-027', 1],\n",
       " ['LUNG1-028', 0],\n",
       " ['LUNG1-029', 0],\n",
       " ['LUNG1-030', 0],\n",
       " ['LUNG1-031', 1],\n",
       " ['LUNG1-032', 1],\n",
       " ['LUNG1-033', 0],\n",
       " ['LUNG1-034', 1],\n",
       " ['LUNG1-035', 0],\n",
       " ['LUNG1-036', 0],\n",
       " ['LUNG1-037', 0],\n",
       " ['LUNG1-038', 0],\n",
       " ['LUNG1-039', 0],\n",
       " ['LUNG1-040', 1],\n",
       " ['LUNG1-041', 0],\n",
       " ['LUNG1-042', 0],\n",
       " ['LUNG1-043', 0],\n",
       " ['LUNG1-044', 0],\n",
       " ['LUNG1-045', 1],\n",
       " ['LUNG1-046', 0],\n",
       " ['LUNG1-047', 1],\n",
       " ['LUNG1-048', 1],\n",
       " ['LUNG1-049', 1],\n",
       " ['LUNG1-050', 0],\n",
       " ['LUNG1-051', 0],\n",
       " ['LUNG1-052', 0],\n",
       " ['LUNG1-053', 0],\n",
       " ['LUNG1-054', 1],\n",
       " ['LUNG1-055', 0],\n",
       " ['LUNG1-056', 1],\n",
       " ['LUNG1-057', 0],\n",
       " ['LUNG1-058', 1],\n",
       " ['LUNG1-059', 1],\n",
       " ['LUNG1-060', 0],\n",
       " ['LUNG1-061', 1],\n",
       " ['LUNG1-062', 0],\n",
       " ['LUNG1-063', 1],\n",
       " ['LUNG1-064', 1],\n",
       " ['LUNG1-065', 0],\n",
       " ['LUNG1-066', 1],\n",
       " ['LUNG1-067', 1],\n",
       " ['LUNG1-068', 1],\n",
       " ['LUNG1-069', 0],\n",
       " ['LUNG1-070', 0],\n",
       " ['LUNG1-071', 1],\n",
       " ['LUNG1-072', 0],\n",
       " ['LUNG1-073', 0],\n",
       " ['LUNG1-074', 1],\n",
       " ['LUNG1-075', 0],\n",
       " ['LUNG1-076', 1],\n",
       " ['LUNG1-077', 0],\n",
       " ['LUNG1-078', 1],\n",
       " ['LUNG1-079', 0],\n",
       " ['LUNG1-080', 1],\n",
       " ['LUNG1-081', 1],\n",
       " ['LUNG1-082', 0],\n",
       " ['LUNG1-083', 1],\n",
       " ['LUNG1-084', 1],\n",
       " ['LUNG1-085', 0],\n",
       " ['LUNG1-086', 1],\n",
       " ['LUNG1-087', 1],\n",
       " ['LUNG1-088', 0],\n",
       " ['LUNG1-089', 1],\n",
       " ['LUNG1-090', 1],\n",
       " ['LUNG1-091', 0],\n",
       " ['LUNG1-092', 1],\n",
       " ['LUNG1-093', 0],\n",
       " ['LUNG1-094', 0],\n",
       " ['LUNG1-095', 0],\n",
       " ['LUNG1-096', 1],\n",
       " ['LUNG1-097', 0],\n",
       " ['LUNG1-098', 0],\n",
       " ['LUNG1-099', 1],\n",
       " ['LUNG1-100', 1],\n",
       " ['LUNG1-101', 0],\n",
       " ['LUNG1-102', 1],\n",
       " ['LUNG1-103', 1],\n",
       " ['LUNG1-104', 0],\n",
       " ['LUNG1-105', 0],\n",
       " ['LUNG1-106', 0],\n",
       " ['LUNG1-107', 0],\n",
       " ['LUNG1-108', 1],\n",
       " ['LUNG1-109', 1],\n",
       " ['LUNG1-110', 1],\n",
       " ['LUNG1-111', 0],\n",
       " ['LUNG1-112', 1],\n",
       " ['LUNG1-113', 1],\n",
       " ['LUNG1-114', 1],\n",
       " ['LUNG1-115', 0],\n",
       " ['LUNG1-116', 1],\n",
       " ['LUNG1-117', 0],\n",
       " ['LUNG1-118', 1],\n",
       " ['LUNG1-119', 1],\n",
       " ['LUNG1-120', 1],\n",
       " ['LUNG1-121', 0],\n",
       " ['LUNG1-122', 1],\n",
       " ['LUNG1-123', 0],\n",
       " ['LUNG1-124', 0],\n",
       " ['LUNG1-125', 0],\n",
       " ['LUNG1-126', 1],\n",
       " ['LUNG1-127', 0],\n",
       " ['LUNG1-129', 1],\n",
       " ['LUNG1-130', 1],\n",
       " ['LUNG1-131', 1],\n",
       " ['LUNG1-132', 1],\n",
       " ['LUNG1-133', 1],\n",
       " ['LUNG1-134', 1],\n",
       " ['LUNG1-135', 2],\n",
       " ['LUNG1-136', 0],\n",
       " ['LUNG1-137', 0],\n",
       " ['LUNG1-138', 1],\n",
       " ['LUNG1-140', 0],\n",
       " ['LUNG1-141', 0],\n",
       " ['LUNG1-142', 1],\n",
       " ['LUNG1-143', 1],\n",
       " ['LUNG1-144', 0],\n",
       " ['LUNG1-145', 1],\n",
       " ['LUNG1-146', 0],\n",
       " ['LUNG1-147', 1],\n",
       " ['LUNG1-148', 0],\n",
       " ['LUNG1-149', 0],\n",
       " ['LUNG1-150', 1],\n",
       " ['LUNG1-151', 0],\n",
       " ['LUNG1-152', 1],\n",
       " ['LUNG1-153', 1],\n",
       " ['LUNG1-154', 1],\n",
       " ['LUNG1-155', 0],\n",
       " ['LUNG1-156', 1],\n",
       " ['LUNG1-157', 1],\n",
       " ['LUNG1-158', 0],\n",
       " ['LUNG1-159', 1],\n",
       " ['LUNG1-160', 1],\n",
       " ['LUNG1-161', 1],\n",
       " ['LUNG1-162', 1],\n",
       " ['LUNG1-163', 1],\n",
       " ['LUNG1-164', 1],\n",
       " ['LUNG1-165', 1],\n",
       " ['LUNG1-166', 1],\n",
       " ['LUNG1-167', 1],\n",
       " ['LUNG1-168', 0],\n",
       " ['LUNG1-169', 1],\n",
       " ['LUNG1-170', 0],\n",
       " ['LUNG1-171', 0],\n",
       " ['LUNG1-172', 0],\n",
       " ['LUNG1-173', 1],\n",
       " ['LUNG1-174', 1],\n",
       " ['LUNG1-175', 0],\n",
       " ['LUNG1-176', 0],\n",
       " ['LUNG1-177', 1],\n",
       " ['LUNG1-178', 1],\n",
       " ['LUNG1-179', 0],\n",
       " ['LUNG1-180', 1],\n",
       " ['LUNG1-181', 0],\n",
       " ['LUNG1-183', 1],\n",
       " ['LUNG1-184', 1],\n",
       " ['LUNG1-185', 1],\n",
       " ['LUNG1-186', 1],\n",
       " ['LUNG1-187', 1],\n",
       " ['LUNG1-188', 1],\n",
       " ['LUNG1-189', 0],\n",
       " ['LUNG1-190', 1],\n",
       " ['LUNG1-191', 1],\n",
       " ['LUNG1-192', 0],\n",
       " ['LUNG1-193', 1],\n",
       " ['LUNG1-194', 1],\n",
       " ['LUNG1-195', 1],\n",
       " ['LUNG1-196', 0],\n",
       " ['LUNG1-197', 0],\n",
       " ['LUNG1-198', 0],\n",
       " ['LUNG1-199', 1],\n",
       " ['LUNG1-200', 0],\n",
       " ['LUNG1-201', 1],\n",
       " ['LUNG1-202', 0],\n",
       " ['LUNG1-203', 1],\n",
       " ['LUNG1-204', 0],\n",
       " ['LUNG1-205', 0],\n",
       " ['LUNG1-206', 0],\n",
       " ['LUNG1-207', 0],\n",
       " ['LUNG1-208', 1],\n",
       " ['LUNG1-209', 1],\n",
       " ['LUNG1-210', 0],\n",
       " ['LUNG1-211', 1],\n",
       " ['LUNG1-212', 1],\n",
       " ['LUNG1-213', 1],\n",
       " ['LUNG1-214', 0],\n",
       " ['LUNG1-215', 1],\n",
       " ['LUNG1-216', 0],\n",
       " ['LUNG1-217', 0],\n",
       " ['LUNG1-218', 1],\n",
       " ['LUNG1-219', 1],\n",
       " ['LUNG1-220', 1],\n",
       " ['LUNG1-221', 1],\n",
       " ['LUNG1-222', 2],\n",
       " ['LUNG1-223', 1],\n",
       " ['LUNG1-224', 1],\n",
       " ['LUNG1-225', 0],\n",
       " ['LUNG1-226', 0],\n",
       " ['LUNG1-227', 0],\n",
       " ['LUNG1-228', 1],\n",
       " ['LUNG1-229', 0],\n",
       " ['LUNG1-230', 1],\n",
       " ['LUNG1-231', 1],\n",
       " ['LUNG1-232', 1],\n",
       " ['LUNG1-233', 0],\n",
       " ['LUNG1-234', 1],\n",
       " ['LUNG1-235', 1],\n",
       " ['LUNG1-236', 1],\n",
       " ['LUNG1-237', 1],\n",
       " ['LUNG1-238', 2],\n",
       " ['LUNG1-239', 1],\n",
       " ['LUNG1-240', 1],\n",
       " ['LUNG1-241', 0],\n",
       " ['LUNG1-242', 0],\n",
       " ['LUNG1-243', 1],\n",
       " ['LUNG1-244', 0],\n",
       " ['LUNG1-245', 1],\n",
       " ['LUNG1-246', 1],\n",
       " ['LUNG1-247', 1],\n",
       " ['LUNG1-248', 0],\n",
       " ['LUNG1-249', 1],\n",
       " ['LUNG1-250', 1],\n",
       " ['LUNG1-251', 1],\n",
       " ['LUNG1-252', 0],\n",
       " ['LUNG1-253', 0],\n",
       " ['LUNG1-254', 1],\n",
       " ['LUNG1-255', 0],\n",
       " ['LUNG1-256', 0],\n",
       " ['LUNG1-257', 1],\n",
       " ['LUNG1-258', 1],\n",
       " ['LUNG1-259', 1],\n",
       " ['LUNG1-260', 1],\n",
       " ['LUNG1-261', 1],\n",
       " ['LUNG1-262', 0],\n",
       " ['LUNG1-263', 1],\n",
       " ['LUNG1-264', 1],\n",
       " ['LUNG1-265', 1],\n",
       " ['LUNG1-266', 0],\n",
       " ['LUNG1-267', 1],\n",
       " ['LUNG1-268', 0],\n",
       " ['LUNG1-269', 0],\n",
       " ['LUNG1-270', 0],\n",
       " ['LUNG1-271', 2],\n",
       " ['LUNG1-272', 0],\n",
       " ['LUNG1-273', 1],\n",
       " ['LUNG1-274', 0],\n",
       " ['LUNG1-275', 0],\n",
       " ['LUNG1-276', 1],\n",
       " ['LUNG1-277', 1],\n",
       " ['LUNG1-278', 1],\n",
       " ['LUNG1-279', 1],\n",
       " ['LUNG1-280', 1],\n",
       " ['LUNG1-280a', 1],\n",
       " ['LUNG1-281', 1],\n",
       " ['LUNG1-282', 1],\n",
       " ['LUNG1-283', 1],\n",
       " ['LUNG1-284', 0],\n",
       " ['LUNG1-285', 0],\n",
       " ['LUNG1-286', 0],\n",
       " ['LUNG1-287', 0],\n",
       " ['LUNG1-288', 0],\n",
       " ['LUNG1-289', 1],\n",
       " ['LUNG1-290', 0],\n",
       " ['LUNG1-291', 1],\n",
       " ['LUNG1-292', 0],\n",
       " ['LUNG1-293', 1],\n",
       " ['LUNG1-294', 1],\n",
       " ['LUNG1-295', 0],\n",
       " ['LUNG1-296', 0],\n",
       " ['LUNG1-297', 1],\n",
       " ['LUNG1-297a', 1],\n",
       " ['LUNG1-298', 1],\n",
       " ['LUNG1-299', 1],\n",
       " ['LUNG1-300', 1],\n",
       " ['LUNG1-301', 0],\n",
       " ['LUNG1-302', 2],\n",
       " ['LUNG1-303', 0],\n",
       " ['LUNG1-304', 2],\n",
       " ['LUNG1-305', 0],\n",
       " ['LUNG1-306', 1],\n",
       " ['LUNG1-307', 1],\n",
       " ['LUNG1-308', 0],\n",
       " ['LUNG1-309', 0],\n",
       " ['LUNG1-310', 0],\n",
       " ['LUNG1-311', 1],\n",
       " ['LUNG1-312', 0],\n",
       " ['LUNG1-313', 2],\n",
       " ['LUNG1-314', 2],\n",
       " ['LUNG1-315', 1],\n",
       " ['LUNG1-316', 2],\n",
       " ['LUNG1-317', 2],\n",
       " ['LUNG1-318', 0],\n",
       " ['LUNG1-319', 2],\n",
       " ['LUNG1-320', 2],\n",
       " ['LUNG1-321', 0],\n",
       " ['LUNG1-322', 2],\n",
       " ['LUNG1-323', 0],\n",
       " ['LUNG1-324', 2],\n",
       " ['LUNG1-325', 2],\n",
       " ['LUNG1-326', 0],\n",
       " ['LUNG1-327', 0],\n",
       " ['LUNG1-328', 1],\n",
       " ['LUNG1-329', 0],\n",
       " ['LUNG1-330', 2],\n",
       " ['LUNG1-331', 2],\n",
       " ['LUNG1-332', 1],\n",
       " ['LUNG1-333', 2],\n",
       " ['LUNG1-334', 2],\n",
       " ['LUNG1-335', 2],\n",
       " ['LUNG1-336', 0],\n",
       " ['LUNG1-337', 2],\n",
       " ['LUNG1-337a', 2],\n",
       " ['LUNG1-338', 0],\n",
       " ['LUNG1-339', 0],\n",
       " ['LUNG1-340', 2],\n",
       " ['LUNG1-341', 1],\n",
       " ['LUNG1-342', 0],\n",
       " ['LUNG1-343', 2],\n",
       " ['LUNG1-344', 2],\n",
       " ['LUNG1-345', 2],\n",
       " ['LUNG1-346', 2],\n",
       " ['LUNG1-347', 2],\n",
       " ['LUNG1-348', 2],\n",
       " ['LUNG1-349', 0],\n",
       " ['LUNG1-350', 2],\n",
       " ['LUNG1-351', 2],\n",
       " ['LUNG1-352', 2],\n",
       " ['LUNG1-353', 0],\n",
       " ['LUNG1-354', 1],\n",
       " ['LUNG1-355', 1],\n",
       " ['LUNG1-356', 0],\n",
       " ['LUNG1-357', 1],\n",
       " ['LUNG1-358', 1],\n",
       " ['LUNG1-359', 0],\n",
       " ['LUNG1-360', 2],\n",
       " ['LUNG1-361', 0],\n",
       " ['LUNG1-362', 2],\n",
       " ['LUNG1-363', 0],\n",
       " ['LUNG1-364', 2],\n",
       " ['LUNG1-365', 0],\n",
       " ['LUNG1-366', 0],\n",
       " ['LUNG1-367', 2],\n",
       " ['LUNG1-368', 2],\n",
       " ['LUNG1-369', 2],\n",
       " ['LUNG1-370', 2],\n",
       " ['LUNG1-371', 2],\n",
       " ['LUNG1-372', 2],\n",
       " ['LUNG1-373', 2],\n",
       " ['LUNG1-374', 0],\n",
       " ['LUNG1-375', 0],\n",
       " ['LUNG1-376', 0],\n",
       " ['LUNG1-377', 2],\n",
       " ['LUNG1-378', 2],\n",
       " ['LUNG1-379', 2],\n",
       " ['LUNG1-380', 2],\n",
       " ['LUNG1-381', 0],\n",
       " ['LUNG1-382', 2],\n",
       " ['LUNG1-383', 2],\n",
       " ['LUNG1-384', 2],\n",
       " ['LUNG1-385', 2],\n",
       " ['LUNG1-386', 0],\n",
       " ['LUNG1-387', 0],\n",
       " ['LUNG1-388', 2],\n",
       " ['LUNG1-389', 2],\n",
       " ['LUNG1-390', 2],\n",
       " ['LUNG1-391', 0],\n",
       " ['LUNG1-392', 2],\n",
       " ['LUNG1-393', 2],\n",
       " ['LUNG1-394', 2],\n",
       " ['LUNG1-395', 0],\n",
       " ['LUNG1-395a', 0],\n",
       " ['LUNG1-396', 2],\n",
       " ['LUNG1-397', 0],\n",
       " ['LUNG1-398', 2],\n",
       " ['LUNG1-399', 2],\n",
       " ['LUNG1-399a', 2],\n",
       " ['LUNG1-400', 2],\n",
       " ['LUNG1-401', 0],\n",
       " ['LUNG1-402', 2],\n",
       " ['LUNG1-403', 2],\n",
       " ['LUNG1-404', 0],\n",
       " ['LUNG1-405', 2],\n",
       " ['LUNG1-406', 2],\n",
       " ['LUNG1-407', 2],\n",
       " ['LUNG1-408', 0],\n",
       " ['LUNG1-409', 2],\n",
       " ['LUNG1-410', 2],\n",
       " ['LUNG1-411', 2],\n",
       " ['LUNG1-412', 0],\n",
       " ['LUNG1-413', 0],\n",
       " ['LUNG1-414', 2],\n",
       " ['LUNG1-415', 2],\n",
       " ['LUNG1-416', 2],\n",
       " ['LUNG1-417', 2],\n",
       " ['LUNG1-418', 2],\n",
       " ['LUNG1-419', 2],\n",
       " ['LUNG1-420', 2],\n",
       " ['LUNG1-421', 2],\n",
       " ['LUNG1-422', 2]]"
      ]
     },
     "execution_count": 14,
     "metadata": {},
     "output_type": "execute_result"
    }
   ],
   "source": [
    "new_labels"
   ]
  },
  {
   "cell_type": "code",
   "execution_count": 15,
   "metadata": {},
   "outputs": [
    {
     "name": "stdout",
     "output_type": "stream",
     "text": [
      "Labels length: 424\n"
     ]
    },
    {
     "data": {
      "text/html": [
       "<div>\n",
       "<style scoped>\n",
       "    .dataframe tbody tr th:only-of-type {\n",
       "        vertical-align: middle;\n",
       "    }\n",
       "\n",
       "    .dataframe tbody tr th {\n",
       "        vertical-align: top;\n",
       "    }\n",
       "\n",
       "    .dataframe thead th {\n",
       "        text-align: right;\n",
       "    }\n",
       "</style>\n",
       "<table border=\"1\" class=\"dataframe\">\n",
       "  <thead>\n",
       "    <tr style=\"text-align: right;\">\n",
       "      <th></th>\n",
       "      <th>id</th>\n",
       "      <th>survival</th>\n",
       "    </tr>\n",
       "  </thead>\n",
       "  <tbody>\n",
       "    <tr>\n",
       "      <th>0</th>\n",
       "      <td>LUNG1-001</td>\n",
       "      <td>1</td>\n",
       "    </tr>\n",
       "    <tr>\n",
       "      <th>1</th>\n",
       "      <td>LUNG1-002</td>\n",
       "      <td>0</td>\n",
       "    </tr>\n",
       "    <tr>\n",
       "      <th>2</th>\n",
       "      <td>LUNG1-003</td>\n",
       "      <td>0</td>\n",
       "    </tr>\n",
       "    <tr>\n",
       "      <th>3</th>\n",
       "      <td>LUNG1-004</td>\n",
       "      <td>0</td>\n",
       "    </tr>\n",
       "    <tr>\n",
       "      <th>4</th>\n",
       "      <td>LUNG1-005</td>\n",
       "      <td>0</td>\n",
       "    </tr>\n",
       "  </tbody>\n",
       "</table>\n",
       "</div>"
      ],
      "text/plain": [
       "          id  survival\n",
       "0  LUNG1-001         1\n",
       "1  LUNG1-002         0\n",
       "2  LUNG1-003         0\n",
       "3  LUNG1-004         0\n",
       "4  LUNG1-005         0"
      ]
     },
     "execution_count": 15,
     "metadata": {},
     "output_type": "execute_result"
    }
   ],
   "source": [
    "columns = ['id', 'survival']\n",
    "new_labels = pd.DataFrame(new_labels, columns = columns)\n",
    "print(\"Labels length:\", len(new_labels))\n",
    "new_labels.head()"
   ]
  },
  {
   "cell_type": "code",
   "execution_count": 16,
   "metadata": {},
   "outputs": [
    {
     "name": "stdout",
     "output_type": "stream",
     "text": [
      "Images shape: (424, 15, 50, 50)\n",
      "Array type:   float16\n"
     ]
    }
   ],
   "source": [
    "imgs = np.load( os.path.join(dta_path,'images_small.npy') )\n",
    "#imgs = np.rollaxis(imgs, 3, 1)  \n",
    "imgs = imgs.astype('float16') # Using fp16 capable gpus\n",
    "print(\"Images shape:\", imgs.shape)\n",
    "print(\"Array type:  \", imgs.dtype)"
   ]
  },
  {
   "cell_type": "code",
   "execution_count": 17,
   "metadata": {},
   "outputs": [],
   "source": [
    "'''\n",
    "for n, data in enumerate(zip(imgs, new_labels.iterrows())):\n",
    "    print(n+1, data[0].shape)\n",
    "    print(data[1][1].id, ' - Survival:', data[1][1].survival)\n",
    "    print()\n",
    "'''\n",
    "\n",
    "mask = np.zeros(len(imgs), dtype=bool)\n",
    "keep = np.array(new_labels.loc[(new_labels['survival'] == 0) | (new_labels['survival'] == 1)].index)\n",
    "mask[keep] = True\n",
    "imgs = imgs[mask]"
   ]
  },
  {
   "cell_type": "code",
   "execution_count": 18,
   "metadata": {},
   "outputs": [
    {
     "data": {
      "text/plain": [
       "(346, 15, 50, 50)"
      ]
     },
     "execution_count": 18,
     "metadata": {},
     "output_type": "execute_result"
    }
   ],
   "source": [
    "imgs.shape"
   ]
  },
  {
   "cell_type": "code",
   "execution_count": 19,
   "metadata": {},
   "outputs": [
    {
     "data": {
      "text/plain": [
       "array([1, 0, 0, 0, 0, 0, 0, 0, 0, 1, 1, 0, 1, 1, 1, 0, 0, 1, 0, 0, 0, 0,\n",
       "       0, 1, 1, 0, 1, 0, 0, 0, 1, 1, 0, 1, 0, 0, 0, 0, 0, 1, 0, 0, 0, 0,\n",
       "       1, 0, 1, 1, 1, 0, 0, 0, 0, 1, 0, 1, 0, 1, 1, 0, 1, 0, 1, 1, 0, 1,\n",
       "       1, 1, 0, 0, 1, 0, 0, 1, 0, 1, 0, 1, 0, 1, 1, 0, 1, 1, 0, 1, 1, 0,\n",
       "       1, 1, 0, 1, 0, 0, 0, 1, 0, 0, 1, 1, 0, 1, 1, 0, 0, 0, 0, 1, 1, 1,\n",
       "       0, 1, 1, 1, 0, 1, 0, 1, 1, 1, 0, 1, 0, 0, 0, 1, 0, 1, 1, 1, 1, 1,\n",
       "       1, 0, 0, 1, 0, 0, 1, 1, 0, 1, 0, 1, 0, 0, 1, 0, 1, 1, 1, 0, 1, 1,\n",
       "       0, 1, 1, 1, 1, 1, 1, 1, 1, 1, 0, 1, 0, 0, 0, 1, 1, 0, 0, 1, 1, 0,\n",
       "       1, 0, 1, 1, 1, 1, 1, 1, 0, 1, 1, 0, 1, 1, 1, 0, 0, 0, 1, 0, 1, 0,\n",
       "       1, 0, 0, 0, 0, 1, 1, 0, 1, 1, 1, 0, 1, 0, 0, 1, 1, 1, 1, 1, 1, 0,\n",
       "       0, 0, 1, 0, 1, 1, 1, 0, 1, 1, 1, 1, 1, 1, 0, 0, 1, 0, 1, 1, 1, 0,\n",
       "       1, 1, 1, 0, 0, 1, 0, 0, 1, 1, 1, 1, 1, 0, 1, 1, 1, 0, 1, 0, 0, 0,\n",
       "       0, 1, 0, 0, 1, 1, 1, 1, 1, 1, 1, 1, 1, 0, 0, 0, 0, 0, 1, 0, 1, 0,\n",
       "       1, 1, 0, 0, 1, 1, 1, 1, 1, 0, 0, 0, 1, 1, 0, 0, 0, 1, 0, 1, 0, 0,\n",
       "       0, 0, 0, 1, 0, 1, 0, 0, 0, 1, 0, 0, 0, 1, 1, 0, 1, 1, 0, 0, 0, 0,\n",
       "       0, 0, 0, 0, 0, 0, 0, 0, 0, 0, 0, 0, 0, 0, 0, 0], dtype=int64)"
      ]
     },
     "execution_count": 19,
     "metadata": {},
     "output_type": "execute_result"
    }
   ],
   "source": [
    "y = new_labels.loc[(new_labels['survival'] == 0) | (new_labels['survival'] == 1)]\n",
    "y = np.array(y.survival)\n",
    "y\n"
   ]
  },
  {
   "cell_type": "code",
   "execution_count": 20,
   "metadata": {},
   "outputs": [
    {
     "data": {
      "text/plain": [
       "346"
      ]
     },
     "execution_count": 20,
     "metadata": {},
     "output_type": "execute_result"
    }
   ],
   "source": [
    "len(y)"
   ]
  },
  {
   "cell_type": "code",
   "execution_count": 21,
   "metadata": {},
   "outputs": [
    {
     "data": {
      "text/plain": [
       "\"\\npath = os.path.join(cpd_path, new_labels.loc[200].id)\\npath = os.path.join(path, 'image.npy')\\nimg = np.load(path)\\nplt.imshow(img[:, :, 0])\\n\""
      ]
     },
     "execution_count": 21,
     "metadata": {},
     "output_type": "execute_result"
    }
   ],
   "source": [
    "\"\"\"\n",
    "path = os.path.join(cpd_path, new_labels.loc[200].id)\n",
    "path = os.path.join(path, 'image.npy')\n",
    "img = np.load(path)\n",
    "plt.imshow(img[:, :, 0])\n",
    "\"\"\""
   ]
  },
  {
   "cell_type": "code",
   "execution_count": 22,
   "metadata": {},
   "outputs": [
    {
     "name": "stdout",
     "output_type": "stream",
     "text": [
      "Shape: (346, 15, 50, 50, 1)\n"
     ]
    }
   ],
   "source": [
    "imgs.shape\n",
    "imgs = imgs.reshape((346, 15, 50, 50, 1))\n",
    "print(\"Shape:\", imgs.shape)"
   ]
  },
  {
   "cell_type": "code",
   "execution_count": 23,
   "metadata": {},
   "outputs": [],
   "source": [
    "X_train, X_test, y_train, y_test = train_test_split(imgs, y, test_size=0.245, train_size=0.755)"
   ]
  },
  {
   "cell_type": "code",
   "execution_count": 24,
   "metadata": {},
   "outputs": [
    {
     "name": "stdout",
     "output_type": "stream",
     "text": [
      "(261, 15, 50, 50, 1) (85, 15, 50, 50, 1) (261,) (85,)\n"
     ]
    }
   ],
   "source": [
    "print(X_train.shape, X_test.shape, y_train.shape, y_test.shape)"
   ]
  },
  {
   "cell_type": "code",
   "execution_count": 25,
   "metadata": {},
   "outputs": [],
   "source": [
    "def generator(X, y, batch_size):\n",
    "    total_batches = 0\n",
    "    while True:\n",
    "        #batch = random.sample(range(0, X.shape[0]), batch_size)\n",
    "        batch = [random.choice(range(0, X.shape[0])) for x in range(batch_size)]\n",
    "        total_batches += len(batch)\n",
    "        X_batch = X[batch]\n",
    "        y_batch = y[batch]\n",
    "        yield X_batch, y_batch"
   ]
  },
  {
   "cell_type": "code",
   "execution_count": 26,
   "metadata": {},
   "outputs": [],
   "source": [
    "n_epochs = 32\n",
    "batch_size = 32\n",
    "learning_rate = .0000000000000000000000000000000000000001\n",
    "decay_rate = 5e-6\n",
    "momentum = 0.5\n",
    "is_regression = True\n",
    "\n",
    "model = get_model((15,50,50, 1))"
   ]
  },
  {
   "cell_type": "code",
   "execution_count": 27,
   "metadata": {},
   "outputs": [
    {
     "name": "stdout",
     "output_type": "stream",
     "text": [
      "__________________________________________________________________________________________________\n",
      "Layer (type)                    Output Shape         Param #     Connected to                     \n",
      "==================================================================================================\n",
      "conv3d_1_input (InputLayer)     (None, 15, 50, 50, 1 0                                            \n",
      "__________________________________________________________________________________________________\n",
      "lambda_1 (Lambda)               (None, 15, 50, 50, 1 0           conv3d_1_input[0][0]             \n",
      "__________________________________________________________________________________________________\n",
      "lambda_2 (Lambda)               (None, 15, 50, 50, 1 0           conv3d_1_input[0][0]             \n",
      "__________________________________________________________________________________________________\n",
      "sequential_1 (Sequential)       (None, 1)            117519825   lambda_1[0][0]                   \n",
      "                                                                 lambda_2[0][0]                   \n",
      "__________________________________________________________________________________________________\n",
      "dense_3 (Concatenate)           (None, 1)            0           sequential_1[1][0]               \n",
      "                                                                 sequential_1[2][0]               \n",
      "==================================================================================================\n",
      "Total params: 117,519,825\n",
      "Trainable params: 117,519,697\n",
      "Non-trainable params: 128\n",
      "__________________________________________________________________________________________________\n"
     ]
    }
   ],
   "source": [
    "model = multi_gpu_model(model, gpus=2)\n",
    "#sgd = SGD(lr=learning_rate,momentum=momentum, decay=decay_rate, nesterov=False)\n",
    "\n",
    "adam = Adam(lr=learning_rate)\n",
    "\n",
    "model.compile(loss='binary_crossentropy', \n",
    "              optimizer=adam, \n",
    "              #metrics=['mean_absolute_error']\n",
    "             )\n",
    "\n",
    "model.summary()"
   ]
  },
  {
   "cell_type": "code",
   "execution_count": 28,
   "metadata": {},
   "outputs": [
    {
     "name": "stdout",
     "output_type": "stream",
     "text": [
      "Epoch 1/32\n",
      "8/8 [==============================] - ETA: 37s - loss: 6.97 - ETA: 16s - loss: 7.72 - ETA: 9s - loss: 6.6427 - ETA: 5s - loss: 6.974 - ETA: 3s - loss: 7.473 - ETA: 1s - loss: 7.306 - ETA: 0s - loss: 7.259 - 7s 827ms/step - loss: 7.4730 - val_loss: 9.1874\n",
      "Epoch 2/32\n",
      "8/8 [==============================] - ETA: 0s - loss: 8.469 - ETA: 0s - loss: 7.473 - ETA: 0s - loss: 7.473 - ETA: 0s - loss: 7.846 - ETA: 0s - loss: 7.871 - ETA: 0s - loss: 7.888 - ETA: 0s - loss: 7.900 - 1s 154ms/step - loss: 8.0335 - val_loss: 8.6892\n",
      "Epoch 3/32\n",
      "8/8 [==============================] - ETA: 0s - loss: 6.974 - ETA: 0s - loss: 7.722 - ETA: 0s - loss: 6.974 - ETA: 0s - loss: 7.348 - ETA: 0s - loss: 7.672 - ETA: 0s - loss: 7.888 - ETA: 0s - loss: 8.042 - 1s 155ms/step - loss: 7.9089 - val_loss: 8.7918\n",
      "Epoch 4/32\n",
      "8/8 [==============================] - ETA: 0s - loss: 7.473 - ETA: 0s - loss: 8.967 - ETA: 0s - loss: 8.801 - ETA: 0s - loss: 8.344 - ETA: 0s - loss: 8.170 - ETA: 0s - loss: 7.805 - ETA: 0s - loss: 8.255 - 1s 153ms/step - loss: 8.1580 - val_loss: 9.1434\n",
      "Epoch 5/32\n",
      "8/8 [==============================] - ETA: 0s - loss: 8.469 - ETA: 0s - loss: 7.971 - ETA: 0s - loss: 7.971 - ETA: 0s - loss: 7.722 - ETA: 0s - loss: 7.672 - ETA: 0s - loss: 7.556 - ETA: 0s - loss: 7.757 - 1s 156ms/step - loss: 7.6598 - val_loss: 8.7185\n",
      "Epoch 6/32\n",
      "8/8 [==============================] - ETA: 0s - loss: 8.469 - ETA: 0s - loss: 7.473 - ETA: 0s - loss: 7.140 - ETA: 0s - loss: 6.974 - ETA: 0s - loss: 6.576 - ETA: 0s - loss: 6.476 - ETA: 0s - loss: 6.618 - 1s 156ms/step - loss: 6.5389 - val_loss: 8.6745\n",
      "Epoch 7/32\n",
      "8/8 [==============================] - ETA: 0s - loss: 10.96 - ETA: 0s - loss: 9.2167 - ETA: 0s - loss: 8.635 - ETA: 0s - loss: 8.095 - ETA: 0s - loss: 8.270 - ETA: 0s - loss: 8.386 - ETA: 0s - loss: 8.255 - 1s 154ms/step - loss: 8.1580 - val_loss: 8.7185\n",
      "Epoch 8/32\n",
      "8/8 [==============================] - ETA: 0s - loss: 6.476 - ETA: 0s - loss: 8.220 - ETA: 0s - loss: 7.140 - ETA: 0s - loss: 7.597 - ETA: 0s - loss: 7.572 - ETA: 0s - loss: 7.223 - ETA: 0s - loss: 7.188 - 1s 156ms/step - loss: 7.2862 - val_loss: 8.5720\n",
      "Epoch 9/32\n",
      "8/8 [==============================] - ETA: 0s - loss: 6.476 - ETA: 0s - loss: 5.978 - ETA: 0s - loss: 6.476 - ETA: 0s - loss: 7.473 - ETA: 0s - loss: 7.871 - ETA: 0s - loss: 7.888 - ETA: 0s - loss: 8.255 - 1s 152ms/step - loss: 8.3448 - val_loss: 8.6892\n",
      "Epoch 10/32\n",
      "8/8 [==============================] - ETA: 0s - loss: 8.469 - ETA: 0s - loss: 7.971 - ETA: 0s - loss: 7.805 - ETA: 0s - loss: 7.846 - ETA: 0s - loss: 8.369 - ETA: 0s - loss: 8.718 - ETA: 0s - loss: 8.896 - 1s 154ms/step - loss: 8.9053 - val_loss: 8.5573\n",
      "Epoch 11/32\n",
      "8/8 [==============================] - ETA: 0s - loss: 8.469 - ETA: 0s - loss: 9.465 - ETA: 0s - loss: 8.137 - ETA: 0s - loss: 8.095 - ETA: 0s - loss: 7.971 - ETA: 0s - loss: 8.054 - ETA: 0s - loss: 8.113 - 1s 152ms/step - loss: 8.1580 - val_loss: 9.1288\n",
      "Epoch 12/32\n",
      "8/8 [==============================] - ETA: 0s - loss: 8.469 - ETA: 0s - loss: 7.722 - ETA: 0s - loss: 6.808 - ETA: 0s - loss: 7.099 - ETA: 0s - loss: 7.074 - ETA: 0s - loss: 7.390 - ETA: 0s - loss: 7.117 - 1s 153ms/step - loss: 6.9125 - val_loss: 9.1288\n",
      "Epoch 13/32\n",
      "8/8 [==============================] - ETA: 0s - loss: 6.974 - ETA: 0s - loss: 7.223 - ETA: 0s - loss: 6.808 - ETA: 0s - loss: 6.601 - ETA: 0s - loss: 6.675 - ETA: 0s - loss: 6.808 - ETA: 0s - loss: 6.761 - 1s 155ms/step - loss: 6.7880 - val_loss: 8.4840\n",
      "Epoch 14/32\n",
      "8/8 [==============================] - ETA: 0s - loss: 10.46 - ETA: 0s - loss: 9.2167 - ETA: 0s - loss: 8.967 - ETA: 0s - loss: 8.469 - ETA: 0s - loss: 7.971 - ETA: 0s - loss: 7.805 - ETA: 0s - loss: 7.544 - 1s 155ms/step - loss: 8.0957 - val_loss: 8.7625\n",
      "Epoch 15/32\n",
      "8/8 [==============================] - ETA: 0s - loss: 8.967 - ETA: 0s - loss: 8.469 - ETA: 0s - loss: 7.971 - ETA: 0s - loss: 7.971 - ETA: 0s - loss: 8.369 - ETA: 0s - loss: 8.386 - ETA: 0s - loss: 8.327 - 1s 153ms/step - loss: 8.3448 - val_loss: 8.9090\n",
      "Epoch 16/32\n",
      "8/8 [==============================] - ETA: 0s - loss: 6.974 - ETA: 0s - loss: 6.227 - ETA: 0s - loss: 6.310 - ETA: 0s - loss: 6.974 - ETA: 0s - loss: 7.174 - ETA: 0s - loss: 7.223 - ETA: 0s - loss: 7.544 - 1s 155ms/step - loss: 7.7844 - val_loss: 8.7331\n",
      "Epoch 17/32\n",
      "8/8 [==============================] - ETA: 0s - loss: 9.465 - ETA: 0s - loss: 8.220 - ETA: 0s - loss: 8.137 - ETA: 0s - loss: 7.722 - ETA: 0s - loss: 7.771 - ETA: 0s - loss: 7.390 - ETA: 0s - loss: 7.401 - 1s 156ms/step - loss: 7.2239 - val_loss: 8.9529\n",
      "Epoch 18/32\n",
      "8/8 [==============================] - ETA: 0s - loss: 6.974 - ETA: 0s - loss: 8.220 - ETA: 0s - loss: 7.639 - ETA: 0s - loss: 8.220 - ETA: 0s - loss: 7.771 - ETA: 0s - loss: 7.971 - ETA: 0s - loss: 8.113 - 1s 155ms/step - loss: 8.0335 - val_loss: 9.0702\n",
      "Epoch 19/32\n",
      "8/8 [==============================] - ETA: 0s - loss: 7.473 - ETA: 0s - loss: 7.473 - ETA: 0s - loss: 7.805 - ETA: 0s - loss: 7.348 - ETA: 0s - loss: 6.974 - ETA: 0s - loss: 6.974 - ETA: 0s - loss: 6.618 - 1s 156ms/step - loss: 6.9125 - val_loss: 8.8064\n",
      "Epoch 20/32\n",
      "8/8 [==============================] - ETA: 0s - loss: 9.964 - ETA: 0s - loss: 9.714 - ETA: 0s - loss: 9.299 - ETA: 0s - loss: 9.216 - ETA: 0s - loss: 8.868 - ETA: 0s - loss: 8.801 - ETA: 0s - loss: 8.896 - 1s 155ms/step - loss: 8.8430 - val_loss: 8.7771\n",
      "Epoch 21/32\n",
      "8/8 [==============================] - ETA: 0s - loss: 8.469 - ETA: 0s - loss: 7.971 - ETA: 0s - loss: 7.971 - ETA: 0s - loss: 8.220 - ETA: 0s - loss: 7.473 - ETA: 0s - loss: 7.805 - ETA: 0s - loss: 8.042 - 1s 156ms/step - loss: 8.2203 - val_loss: 8.6599\n",
      "Epoch 22/32\n",
      "8/8 [==============================] - ETA: 0s - loss: 7.473 - ETA: 0s - loss: 7.722 - ETA: 0s - loss: 7.473 - ETA: 0s - loss: 7.099 - ETA: 0s - loss: 6.675 - ETA: 0s - loss: 6.725 - ETA: 0s - loss: 6.832 - 1s 154ms/step - loss: 7.0993 - val_loss: 8.7625\n",
      "Epoch 23/32\n",
      "8/8 [==============================] - ETA: 0s - loss: 5.480 - ETA: 0s - loss: 4.982 - ETA: 0s - loss: 5.646 - ETA: 0s - loss: 6.227 - ETA: 0s - loss: 6.675 - ETA: 0s - loss: 6.725 - ETA: 0s - loss: 7.188 - 1s 153ms/step - loss: 7.3484 - val_loss: 8.8064\n",
      "Epoch 24/32\n",
      "8/8 [==============================] - ETA: 0s - loss: 4.982 - ETA: 0s - loss: 5.729 - ETA: 0s - loss: 6.808 - ETA: 0s - loss: 6.725 - ETA: 0s - loss: 6.476 - ETA: 0s - loss: 6.808 - ETA: 0s - loss: 6.761 - 1s 155ms/step - loss: 6.7257 - val_loss: 8.9529\n",
      "Epoch 25/32\n",
      "8/8 [==============================] - ETA: 0s - loss: 7.473 - ETA: 0s - loss: 6.725 - ETA: 0s - loss: 6.974 - ETA: 0s - loss: 7.473 - ETA: 0s - loss: 7.771 - ETA: 0s - loss: 7.722 - ETA: 0s - loss: 7.401 - 1s 155ms/step - loss: 6.9748 - val_loss: 8.9676\n",
      "Epoch 26/32\n",
      "8/8 [==============================] - ETA: 0s - loss: 8.967 - ETA: 0s - loss: 8.967 - ETA: 0s - loss: 7.639 - ETA: 0s - loss: 7.971 - ETA: 0s - loss: 7.572 - ETA: 0s - loss: 7.722 - ETA: 0s - loss: 7.757 - 1s 154ms/step - loss: 7.8466 - val_loss: 8.6745\n",
      "Epoch 27/32\n",
      "8/8 [==============================] - ETA: 0s - loss: 8.469 - ETA: 0s - loss: 7.223 - ETA: 0s - loss: 6.642 - ETA: 0s - loss: 6.725 - ETA: 0s - loss: 6.974 - ETA: 0s - loss: 7.140 - ETA: 0s - loss: 7.259 - 1s 157ms/step - loss: 7.2239 - val_loss: 8.6892\n",
      "Epoch 28/32\n",
      "8/8 [==============================] - ETA: 0s - loss: 9.465 - ETA: 0s - loss: 9.714 - ETA: 0s - loss: 9.797 - ETA: 0s - loss: 9.216 - ETA: 0s - loss: 9.366 - ETA: 0s - loss: 9.133 - ETA: 0s - loss: 8.896 - 1s 154ms/step - loss: 8.4071 - val_loss: 9.0702\n",
      "Epoch 29/32\n",
      "8/8 [==============================] - ETA: 0s - loss: 6.476 - ETA: 0s - loss: 7.223 - ETA: 0s - loss: 7.306 - ETA: 0s - loss: 7.597 - ETA: 0s - loss: 7.771 - ETA: 0s - loss: 7.971 - ETA: 0s - loss: 7.900 - 1s 155ms/step - loss: 8.0957 - val_loss: 9.0848\n",
      "Epoch 30/32\n",
      "8/8 [==============================] - ETA: 0s - loss: 8.469 - ETA: 0s - loss: 7.223 - ETA: 0s - loss: 7.805 - ETA: 0s - loss: 7.971 - ETA: 0s - loss: 7.971 - ETA: 0s - loss: 8.137 - ETA: 0s - loss: 8.042 - 1s 153ms/step - loss: 8.0957 - val_loss: 9.0555\n",
      "Epoch 31/32\n"
     ]
    },
    {
     "name": "stdout",
     "output_type": "stream",
     "text": [
      "8/8 [==============================] - ETA: 0s - loss: 8.967 - ETA: 0s - loss: 9.216 - ETA: 0s - loss: 9.133 - ETA: 0s - loss: 8.593 - ETA: 0s - loss: 8.569 - ETA: 0s - loss: 8.469 - ETA: 0s - loss: 8.398 - 1s 155ms/step - loss: 8.1580 - val_loss: 8.5280\n",
      "Epoch 32/32\n",
      "8/8 [==============================] - ETA: 0s - loss: 7.971 - ETA: 0s - loss: 7.971 - ETA: 0s - loss: 8.137 - ETA: 0s - loss: 7.971 - ETA: 0s - loss: 8.170 - ETA: 0s - loss: 8.137 - ETA: 0s - loss: 8.184 - 1s 154ms/step - loss: 8.0957 - val_loss: 8.6452\n"
     ]
    },
    {
     "data": {
      "text/plain": [
       "<keras.callbacks.History at 0x185bc09bcc0>"
      ]
     },
     "execution_count": 28,
     "metadata": {},
     "output_type": "execute_result"
    }
   ],
   "source": [
    "model.fit_generator(generator(X_train, y_train, batch_size), \n",
    "                    epochs = n_epochs,\n",
    "                    steps_per_epoch = int(X_train.shape[0]/batch_size), \n",
    "                    validation_data = generator(X_test, y_test, batch_size*2),\n",
    "                    validation_steps = X_train.shape[0]/batch_size*2,\n",
    "                    #use_multiprocessing = True,\n",
    "                    #workers=16\n",
    "                    )"
   ]
  },
  {
   "cell_type": "code",
   "execution_count": 29,
   "metadata": {},
   "outputs": [
    {
     "data": {
      "text/plain": [
       "13542"
      ]
     },
     "execution_count": 29,
     "metadata": {},
     "output_type": "execute_result"
    }
   ],
   "source": [
    "del model\n",
    "gc.collect()"
   ]
  },
  {
   "cell_type": "code",
   "execution_count": null,
   "metadata": {},
   "outputs": [],
   "source": []
  }
 ],
 "metadata": {
  "kernelspec": {
   "display_name": "Python 3",
   "language": "python",
   "name": "python3"
  },
  "language_info": {
   "codemirror_mode": {
    "name": "ipython",
    "version": 3
   },
   "file_extension": ".py",
   "mimetype": "text/x-python",
   "name": "python",
   "nbconvert_exporter": "python",
   "pygments_lexer": "ipython3",
   "version": "3.6.9"
  }
 },
 "nbformat": 4,
 "nbformat_minor": 2
}
